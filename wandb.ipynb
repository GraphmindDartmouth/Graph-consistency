{
 "cells": [
  {
   "cell_type": "code",
   "execution_count": null,
   "metadata": {},
   "outputs": [],
   "source": [
    "def clear_projects(api):\n",
    "    projects = api.projects()\n",
    "    for project in projects:\n",
    "        # runs = api.runs(project.name)\n",
    "        # for run in runs:\n",
    "\n",
    "        #     run.delete()"
   ]
  },
  {
   "cell_type": "code",
   "execution_count": 5,
   "metadata": {},
   "outputs": [
    {
     "name": "stdout",
     "output_type": "stream",
     "text": [
      "EGC_DD_finaltuning_GMT\n",
      "EGC_NCI1_finaltuning_GMT\n",
      "EGC_NCI109_finaltuning_GMT\n",
      "EGC_PROTEINS_finaltuning_GMT\n",
      "EGC_IMDB-BINARY_finaltuning_GMT\n"
     ]
    }
   ],
   "source": [
    "# 获取表现最好的config\n",
    "import wandb \n",
    "import numpy as np \n",
    "\n",
    "api = wandb.Api()\n",
    "projects = api.projects()\n",
    "\n",
    "count = {}\n",
    "# model = ['GIN', 'GCN', 'GraphSAGE', 'GTransformer']\n",
    "model = ['GMT', 'DiffWire1', 'DiffWire2', 'DiffWire3', 'DiffWire4', 'EGC']\n",
    "TUDataset = ['DD', 'IMDB-BINARY', 'PROTEINS', 'COLLAB', 'NCI1', 'NCI109']\n",
    "OGBDataset = ['ogbg-molhiv', 'ogbg-molpcba']\n",
    "best_config_dic = {}\n",
    "for n in model:\n",
    "    best_config_dic[n] = {}\n",
    "\n",
    "for project in projects:\n",
    "    dataset_name = project.name.split('_')[1] if len(project.name.split('_'))>1 else None\n",
    "    # if dataset_name is not None and dataset_name.endswith('new'):\n",
    "    #     dataset_name = dataset_name.split('new')[0]\n",
    "    # if project.name.startswith('DiffWire21') or project.name.startswith('DiffWire3'):\n",
    "    if project.name.startswith('EGC'):\n",
    "            \n",
    "        \n",
    "        # print(project.name)\n",
    "        if project.name.endswith('GMT'):\n",
    "            print(project.name)\n",
    "            model_name = project.name.split('_')[0]\n",
    "            \n",
    "            runs = api.runs(project.name)\n",
    "            acc_list = []\n",
    "            config_list = []\n",
    "            for r in runs:\n",
    "                config = r.config\n",
    "                summary = r.summary\n",
    "                # print(summary)\n",
    "                if 'test_acc_of_early_stop' in summary:\n",
    "                    if summary['test_acc_of_early_stop'] > 0.5:\n",
    "                        acc_list.append(summary['test_acc_of_early_stop'])\n",
    "                        config_list.append(config)\n",
    "                else:\n",
    "                    continue \n",
    "            best_index = np.argmax(acc_list)\n",
    "            best_config = config_list[best_index]\n",
    "            \n",
    "            best_config_dic[model_name][dataset_name] = best_config\n",
    "        \n",
    "# runs"
   ]
  },
  {
   "cell_type": "code",
   "execution_count": 2,
   "metadata": {},
   "outputs": [
    {
     "data": {
      "text/plain": [
       "{'GMT': {},\n",
       " 'DiffWire1': {},\n",
       " 'DiffWire2': {},\n",
       " 'DiffWire3': {},\n",
       " 'DiffWire4': {},\n",
       " 'EGC': {'DD': {'epochs': 100,\n",
       "   'dropout': 0.3,\n",
       "   'reg_term': 0.1,\n",
       "   'batch_size': 32,\n",
       "   'num_layers': 3,\n",
       "   'hidden_size': 32,\n",
       "   'weight_decay': 0.001,\n",
       "   'learning_rate': 0.01},\n",
       "  'NCI1': {'epochs': 100,\n",
       "   'dropout': 0.3,\n",
       "   'reg_term': 0.1,\n",
       "   'batch_size': 64,\n",
       "   'num_layers': 3,\n",
       "   'hidden_size': 32,\n",
       "   'weight_decay': 0.01,\n",
       "   'learning_rate': 0.001},\n",
       "  'NCI109': {'epochs': 100,\n",
       "   'dropout': 0,\n",
       "   'reg_term': 0.1,\n",
       "   'batch_size': 128,\n",
       "   'num_layers': 3,\n",
       "   'hidden_size': 32,\n",
       "   'weight_decay': 0,\n",
       "   'learning_rate': 0.01},\n",
       "  'PROTEINS': {'epochs': 100,\n",
       "   'dropout': 0,\n",
       "   'reg_term': 0.1,\n",
       "   'batch_size': 64,\n",
       "   'num_layers': 3,\n",
       "   'hidden_size': 32,\n",
       "   'weight_decay': 0.01,\n",
       "   'learning_rate': 0.01},\n",
       "  'IMDB-BINARY': {'epochs': 100,\n",
       "   'dropout': 0.3,\n",
       "   'reg_term': 0.1,\n",
       "   'batch_size': 128,\n",
       "   'num_layers': 3,\n",
       "   'hidden_size': 32,\n",
       "   'weight_decay': 0.001,\n",
       "   'learning_rate': 0.01}}}"
      ]
     },
     "execution_count": 2,
     "metadata": {},
     "output_type": "execute_result"
    }
   ],
   "source": [
    "best_config_dic"
   ]
  },
  {
   "cell_type": "code",
   "execution_count": 6,
   "metadata": {},
   "outputs": [
    {
     "name": "stdout",
     "output_type": "stream",
     "text": [
      "GMT\n",
      "EGC\n"
     ]
    }
   ],
   "source": [
    "import yaml \n",
    "import os \n",
    "\n",
    "for model_name, config in best_config_dic.items():\n",
    "    if 'Diff' in model_name:\n",
    "        continue\n",
    "    print(model_name)\n",
    "    filename = os.path.join('config', f\"{model_name}.yaml\")\n",
    "    \n",
    "    with open(filename, 'a+') as file:\n",
    "        yaml.dump(config, file, sort_keys=False)"
   ]
  },
  {
   "cell_type": "code",
   "execution_count": 18,
   "metadata": {},
   "outputs": [
    {
     "name": "stdout",
     "output_type": "stream",
     "text": [
      "GMT_NCI1_reg_GMT_ddl\n",
      "GMT_NCI1_model_GMT_ddl\n",
      "GMT_IMDB-BINARY_model_GMT_ddl\n",
      "GMT_IMDB-BINARY_reg_GMT_ddl\n"
     ]
    }
   ],
   "source": [
    "import wandb \n",
    "import numpy as np \n",
    "\n",
    "api = wandb.Api()\n",
    "projects = api.projects()\n",
    "\n",
    "count = {}\n",
    "\n",
    "TUDataset = ['DD', 'IMDB-BINARY', 'PROTEINS', 'COLLAB', 'NCI1', 'NCI109']\n",
    "OGBDataset = ['ogbg-molhiv', 'ogbg-molpcba']\n",
    "\n",
    "for project in projects:\n",
    "    name = project.name\n",
    "    \n",
    "    if (name.endswith('reg_GMT_ddl') or name.endswith('model_GMT_ddl')) and name.split('_')[1] in TUDataset:\n",
    "        dataset_name = name.split('_')[1]\n",
    "        if dataset_name in ['IMDB-BINARY', 'NCI1']:\n",
    "            # continue\n",
    "            print(name)\n",
    "            # runs = api.runs(project.name)\n",
    "            # for r in runs:\n",
    "            #     r.delete()"
   ]
  },
  {
   "cell_type": "code",
   "execution_count": 19,
   "metadata": {},
   "outputs": [
    {
     "name": "stdout",
     "output_type": "stream",
     "text": [
      "screen -dmS exp-0 sh -c \"python run_dist.py --model=GMT --dataset=IMDB-BINARY --gpu=0\"\n",
      "screen -dmS exp-2 sh -c \"python exp_run.py --model=GMT --dataset=IMDB-BINARY --gpu=7\"\n",
      "screen -dmS exp-1 sh -c \"python run_dist.py --model=GMT --dataset=NCI1 --gpu=1\"\n",
      "screen -dmS exp-3 sh -c \"python exp_run.py --model=GMT --dataset=NCI1 --gpu=6\"\n"
     ]
    }
   ],
   "source": [
    "TUDataset = ['IMDB-BINARY', 'NCI1']\n",
    "cmd_list = []\n",
    "\n",
    "for i, d in enumerate(TUDataset): \n",
    "    cmd_list.append(f'screen -dmS exp-{i} sh -c \"python run_dist.py --model=GMT --dataset={d} --gpu={i}\"')\n",
    "    cmd_list.append(f'screen -dmS exp-{i+len(TUDataset)} sh -c \"python exp_run.py --model=GMT --dataset={d} --gpu={7-i}\"')\n",
    "    \n",
    "for i in cmd_list:\n",
    "    print(i)"
   ]
  },
  {
   "cell_type": "code",
   "execution_count": 2,
   "metadata": {},
   "outputs": [
    {
     "name": "stderr",
     "output_type": "stream",
     "text": [
      "/tmp/ipykernel_484947/3321580412.py:41: RuntimeWarning: Mean of empty slice.\n",
      "  content = f'{acc_list.mean():.4}±{acc_list.std():.3}'\n"
     ]
    },
    {
     "name": "stdout",
     "output_type": "stream",
     "text": [
      "ogbg-molhiv: nan±nan\n",
      "NCI109: 0.7346±0.0106\n",
      "NCI1: 0.7491±0.00988\n",
      "PROTEINS: 0.5642±0.0726\n",
      "DD: 0.7907±0.0142\n"
     ]
    }
   ],
   "source": [
    "# 统计performance的均值和方差\n",
    "\n",
    "# 获取表现最好的config\n",
    "import wandb \n",
    "import numpy as np \n",
    "\n",
    "api = wandb.Api()\n",
    "projects = api.projects()\n",
    "\n",
    "count = {}\n",
    "model = ['GIN', 'GCN', 'GraphSAGE', 'GTransformer']\n",
    "TUDataset = ['DD', 'MUTAG', 'PROTEINS', 'PTC_MR', 'ENZYMES']\n",
    "OGBDataset = ['ogbg-molhiv', 'ogbg-molpcba']\n",
    "\n",
    "# for n in model:\n",
    "#     count[n] = {}\n",
    "\n",
    "for project in projects:\n",
    "    dataset_name = project.name.split('_')[1] if len(project.name.split('_'))>1 else None\n",
    "\n",
    "    if dataset_name == 'COLLAB':\n",
    "        continue\n",
    "    if project.name.endswith('model_GMT_ddl') and project.name.startswith('EGC'):\n",
    "        # print(project.name)\n",
    "        model_name = project.name.split('_')[0]\n",
    "        \n",
    "        runs = api.runs(project.name)\n",
    "        acc_list = []\n",
    "        config_list = []\n",
    "        for r in runs:\n",
    "            config = r.config\n",
    "            summary = r.summary\n",
    "            # print(summary)\n",
    "            if 'test_acc_of_early_stop' in summary:\n",
    "                if summary['test_acc_of_early_stop'] > 0.5:\n",
    "                    acc_list.append(summary['test_acc_of_early_stop'])\n",
    "                    config_list.append(config)\n",
    "            else:\n",
    "                continue\n",
    "        acc_list = np.array(acc_list) \n",
    "        content = f'{acc_list.mean():.4}±{acc_list.std():.3}'\n",
    "        count[model_name] = content\n",
    "        print(f'{dataset_name}: {content}')\n",
    "\n",
    "\n"
   ]
  },
  {
   "attachments": {},
   "cell_type": "markdown",
   "metadata": {},
   "source": [
    "### DiffWire1\n",
    "\n",
    "带loss\n",
    "IMDB-BINARY: 0.788±0.0108\n",
    "PROTEINS: 0.6867±0.059\n",
    "NCI109: 0.616±0.0124\n",
    "NCI1: 0.6633±0.0106\n",
    "\n",
    "\n",
    "不带loss\n",
    "IMDB-BINARY: 0.77±0.0322\n",
    "PROTEINS: 0.7117±0.0465\n",
    "NCI109: 0.6208±0.0154\n",
    "NCI1: 0.6594±0.0128"
   ]
  },
  {
   "cell_type": "code",
   "execution_count": null,
   "metadata": {},
   "outputs": [],
   "source": [
    "count"
   ]
  }
 ],
 "metadata": {
  "kernelspec": {
   "display_name": "GExpress",
   "language": "python",
   "name": "python3"
  },
  "language_info": {
   "codemirror_mode": {
    "name": "ipython",
    "version": 3
   },
   "file_extension": ".py",
   "mimetype": "text/x-python",
   "name": "python",
   "nbconvert_exporter": "python",
   "pygments_lexer": "ipython3",
   "version": "3.9.0"
  },
  "orig_nbformat": 4
 },
 "nbformat": 4,
 "nbformat_minor": 2
}
