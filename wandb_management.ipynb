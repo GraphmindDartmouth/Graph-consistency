{
 "cells": [
  {
   "cell_type": "code",
   "execution_count": 34,
   "metadata": {},
   "outputs": [],
   "source": [
    "import wandb\n",
    "import pandas as pd \n",
    "import os \n",
    "import json\n",
    "api = wandb.Api()"
   ]
  },
  {
   "cell_type": "code",
   "execution_count": 35,
   "metadata": {},
   "outputs": [],
   "source": [
    "data = {}\n",
    "for project in api.projects():\n",
    "    if 'Letter-high' in project.name and 'reg_repeat' in project.name:\n",
    "        runs = api.runs(os.path.join(project.path[0], project.path[1]))\n",
    "        msg = project.path[1].split('_')\n",
    "        model_name = msg[0]\n",
    "        dataset_name = msg[1]\n",
    "        \n",
    "        if model_name not in data:\n",
    "            data[model_name] = {}\n",
    "\n",
    "        if dataset_name not in data[model_name]:\n",
    "            data[model_name][dataset_name] = []\n",
    "                \n",
    "        for run in runs:\n",
    "            try:\n",
    "                data[model_name][dataset_name].append(run.summary['test_acc_of_early_stop'])\n",
    "            except:\n",
    "                continue"
   ]
  },
  {
   "cell_type": "code",
   "execution_count": 41,
   "metadata": {},
   "outputs": [
    {
     "name": "stdout",
     "output_type": "stream",
     "text": [
      "0.5817777777777777\n",
      "[0.5955555555555555, 0.5911111111111111, 0.6, 0.5644444444444444, 0.5777777777777777, 0.5244444444444445, 0.5911111111111111, 0.5866666666666667, 0.6044444444444445, 0.5822222222222222]\n",
      "0.02199438761183754\n"
     ]
    }
   ],
   "source": [
    "import numpy as np \n",
    "print(np.mean(data['GCN']['Letter-high'][:10]))\n",
    "print(data['GCN']['Letter-high'][:10])\n",
    "print(np.std(data['GCN']['Letter-high'][:10]))"
   ]
  },
  {
   "cell_type": "code",
   "execution_count": 25,
   "metadata": {},
   "outputs": [
    {
     "name": "stdout",
     "output_type": "stream",
     "text": [
      "GMT: 0.5155555555555555±0.05130398391384532\n",
      "GCN: 0.5768888888888889±0.029265915792274375\n",
      "GIN: 0.6777777777777778±0.044322053702919105\n",
      "GraphSAGE: 0.8453333333333333±0.023247461032216924\n",
      "GTransformer: 0.8795555555555555±0.015956731618681125\n"
     ]
    }
   ],
   "source": [
    "import numpy as np\n",
    "for key in data:\n",
    "    d = np.array(data[key]['Letter-high'])\n",
    "    print(f'{key}: {np.mean(d)}±{np.std(d)}')"
   ]
  },
  {
   "cell_type": "code",
   "execution_count": 3,
   "metadata": {},
   "outputs": [],
   "source": [
    "for project in api.projects():\n",
    "    if project.name.endswith(\"_model\"):\n",
    "        runs = api.runs(os.path.join(project.path[0], project.path[1]))\n",
    "        for run in runs:\n",
    "            run.delete()\n",
    "        \n",
    "    "
   ]
  },
  {
   "cell_type": "code",
   "execution_count": null,
   "metadata": {},
   "outputs": [],
   "source": [
    "import wandb\n",
    "\n",
    "# Initialize the wandb API (you might need to log in first)\n",
    "api = wandb.Api()\n",
    "\n",
    "# List all projects in your account\n",
    "projects = api.projects()\n",
    "\n",
    "# Filter projects that end with \"basemode\"\n",
    "basemode_projects = [proj for proj in projects if proj.name.endswith(\"basemodel\")]\n",
    "\n",
    "# Read the config of each \"basemode\" project\n",
    "for project in basemode_projects:\n",
    "    print(f\"Config for project {project.name}:\")\n",
    "    \n",
    "    runs = api.runs(path=project.path[1])\n",
    "    for run in runs:\n",
    "        print(run.config.get(\"batch_size\"), run.config.get(\"dropout\"), run.config.get(\"epoch\"), run.config.get(\"hidden_size\"), run.config.get(\"learning_rate\"), run.config.get(\"num_layer\"), run.config.get(\"weight_decay\"))\n",
    "        break\n",
    "    print(\"\\n\")\n"
   ]
  },
  {
   "cell_type": "code",
   "execution_count": null,
   "metadata": {},
   "outputs": [],
   "source": [
    "data = {}\n",
    "for project in api.projects():\n",
    "    if project.path[1].endswith(\"_model\"):\n",
    "        # print(project.path[1])\n",
    "        runs = api.runs(os.path.join(project.path[0], project.path[1]))\n",
    "        msg = project.path[1].split('_')\n",
    "        model_name = msg[0]\n",
    "        dataset_name = msg[1]\n",
    "        \n",
    "        if model_name not in data:\n",
    "            data[model_name] = {}\n",
    "\n",
    "        if dataset_name not in data[model_name]:\n",
    "            data[model_name][dataset_name] = []\n",
    "                \n",
    "        for run in runs:\n",
    "            try:\n",
    "                data[model_name][dataset_name].append(run.summary['test_acc_of_early_stop'])\n",
    "            except:\n",
    "                continue\n",
    "        "
   ]
  },
  {
   "cell_type": "code",
   "execution_count": null,
   "metadata": {},
   "outputs": [],
   "source": [
    "model_name_list = list(data.keys())\n",
    "dataset_name_list = list(data[model_name_list[1]].keys())"
   ]
  },
  {
   "cell_type": "code",
   "execution_count": null,
   "metadata": {},
   "outputs": [
    {
     "name": "stdout",
     "output_type": "stream",
     "text": [
      "                 NCI109          NCI1      PROTEINS\n",
      "GraphSage   0.754±0.012  0.781±0.0196  0.651±0.0862\n",
      "MixHop     0.734±0.0107  0.774±0.0103  0.559±0.0878\n",
      "GAT        0.725±0.0097  0.763±0.0179  0.735±0.0167\n",
      "GCN        0.738±0.0104  0.762±0.0101   0.742±0.021\n",
      "GIN        0.759±0.0101  0.792±0.0134  0.691±0.0369\n"
     ]
    }
   ],
   "source": [
    "import numpy as np\n",
    "frame = [[''] * len(dataset_name_list) for _ in range(len(model_name_list))]\n",
    "\n",
    "for i,m in enumerate(model_name_list):\n",
    "    if m == \"PPGN\":\n",
    "        continue\n",
    "    if m not in data:\n",
    "        continue\n",
    "\n",
    "    for j,d in enumerate(dataset_name_list):\n",
    "        if d not in data[m]:\n",
    "            continue\n",
    "        acc = np.array(data[m][d])\n",
    "        mean = str(round(acc.mean(), 3))\n",
    "        diff = str(round(np.std(acc), 4))\n",
    "        item = mean+\"±\"+diff\n",
    "        frame[i][j] = item\n",
    "\n",
    "data_df = pd.DataFrame(frame, index=model_name_list, columns=dataset_name_list)\n",
    "print(data_df)"
   ]
  },
  {
   "cell_type": "code",
   "execution_count": 7,
   "metadata": {},
   "outputs": [
    {
     "data": {
      "text/plain": [
       "0.75086"
      ]
     },
     "execution_count": 7,
     "metadata": {},
     "output_type": "execute_result"
    }
   ],
   "source": []
  }
 ],
 "metadata": {
  "kernelspec": {
   "display_name": "text_env",
   "language": "python",
   "name": "python3"
  },
  "language_info": {
   "codemirror_mode": {
    "name": "ipython",
    "version": 3
   },
   "file_extension": ".py",
   "mimetype": "text/x-python",
   "name": "python",
   "nbconvert_exporter": "python",
   "pygments_lexer": "ipython3",
   "version": "3.9.0"
  }
 },
 "nbformat": 4,
 "nbformat_minor": 2
}
